{
  "nbformat": 4,
  "nbformat_minor": 0,
  "metadata": {
    "colab": {
      "name": "neural network image preprocessing.ipynb",
      "provenance": [],
      "authorship_tag": "ABX9TyOAVt81cDGbqZO9giHS1vYF",
      "include_colab_link": true
    },
    "kernelspec": {
      "name": "python3",
      "display_name": "Python 3"
    },
    "accelerator": "GPU"
  },
  "cells": [
    {
      "cell_type": "markdown",
      "metadata": {
        "id": "view-in-github",
        "colab_type": "text"
      },
      "source": [
        "<a href=\"https://colab.research.google.com/github/benedi91/data_science/blob/master/neural_network_image_preprocessing.ipynb\" target=\"_parent\"><img src=\"https://colab.research.google.com/assets/colab-badge.svg\" alt=\"Open In Colab\"/></a>"
      ]
    },
    {
      "cell_type": "markdown",
      "metadata": {
        "id": "O4eEQ9eftFH3",
        "colab_type": "text"
      },
      "source": [
        "Here is a nice code that could be useful for preparing your images for using them in your neural network based on one-hot vectors. It also enables you to save the output data at your google disc. The code is adapted to use it with colab. I use here kaggle cats and dogs dataset as example, but it is easy to convert the code to another dataset."
      ]
    },
    {
      "cell_type": "code",
      "metadata": {
        "id": "tjktIw9nx7AY",
        "colab_type": "code",
        "colab": {
          "base_uri": "https://localhost:8080/",
          "height": 127
        },
        "outputId": "e1ba2cbc-8ad4-4255-c1c8-9fbaefd52bd5"
      },
      "source": [
        "# My input dataset is stored on my github, IMO it is a good way if you want to work with colab\n",
        "! git clone https://github.com/benedi91/datasets.git"
      ],
      "execution_count": 2,
      "outputs": [
        {
          "output_type": "stream",
          "text": [
            "Cloning into 'datasets'...\n",
            "remote: Enumerating objects: 24976, done.\u001b[K\n",
            "remote: Total 24976 (delta 0), reused 0 (delta 0), pack-reused 24976\u001b[K\n",
            "Receiving objects: 100% (24976/24976), 783.65 MiB | 12.84 MiB/s, done.\n",
            "Resolving deltas: 100% (11/11), done.\n",
            "Checking out files: 100% (25002/25002), done.\n"
          ],
          "name": "stdout"
        }
      ]
    },
    {
      "cell_type": "code",
      "metadata": {
        "id": "L6qMXLPFtI_5",
        "colab_type": "code",
        "colab": {}
      },
      "source": [
        "import os\n",
        "import cv2\n",
        "import numpy as np\n",
        "from tqdm import tqdm\n",
        "\n",
        "class DogsVSCats():\n",
        "  IMG_SIZE = 50 #size of an output image\n",
        "  CATS = \"datasets/PetImages/Cat\" #directory of the CATS folder\n",
        "  DOGS = \"datasets/PetImages/Dog\" #directory of the DOGS folder\n",
        "  LABELS = {CATS: 0,DOGS: 1}\n",
        "  training_data = []\n",
        "  catcount = 0\n",
        "  dogcount = 0\n",
        "  padColor = 127 #color of padding\n",
        "\n",
        "  def make_training_data(self): #stretches the non square image\n",
        "    for label in self.LABELS:\n",
        "      print(label)\n",
        "      for f in tqdm(os.listdir(label)):\n",
        "        try:\n",
        "          path = os.path.join(label, f)\n",
        "          img = cv2.imread(path, cv2.IMREAD_GRAYSCALE) #output images would be in greyscale, if you want color type: cv2.IMREAD_COLOR(no alpha channel) or cv2.IMREAD_UNCHANGED (with alpha channel)\n",
        "          img = cv2.resize(img, (self.IMG_SIZE, self.IMG_SIZE))\n",
        "          self.training_data.append([np.array(img2),np.eye(2)[self.LABELS[label]]]) # add one-hot vector to image\n",
        "          if label == self.CATS:\n",
        "            self.catcount += 1\n",
        "          elif label == self.DOGS:\n",
        "            self.dogcount += 1 \n",
        "        except Exception as e:\n",
        "          pass\n",
        "          \n",
        "\n",
        "    np.random.shuffle(self.training_data)\n",
        "    np.save(\"training_data.npy\",self.training_data)\n",
        "    print(\"Cats:\",self.catcount)\n",
        "    print(\"Dogs:\",self.dogcount)\n",
        "    \n",
        "  def make_training_data_pad(self): #same as previous, but does not stretch the non square image\n",
        "    for label in self.LABELS:\n",
        "      print(label)\n",
        "      for f in tqdm(os.listdir(label)):\n",
        "        try:\n",
        "          path = os.path.join(label, f)\n",
        "          img = cv2.imread(path, cv2.IMREAD_GRAYSCALE) #output images would be in greyscale, if you want color type: cv2.IMREAD_COLOR(no alpha channel) or cv2.IMREAD_UNCHANGED (with alpha channel)\n",
        "          # resizing an image\n",
        "          h, w = img.shape[:2]\n",
        "          sh = IMG_SIZE\n",
        "          sw = IMG_SIZE\n",
        "          # interpolation method of resize\n",
        "          if h > sh or w > sw: # shrinking image\n",
        "              interp = cv2.INTER_AREA\n",
        "          else: # stretching image\n",
        "              interp = cv2.INTER_CUBIC\n",
        "          # aspect ratio of image\n",
        "          aspect = w/h\n",
        "          # compute scaling and pad sizing\n",
        "          if aspect > 1: # horizontal image\n",
        "              new_w = sw\n",
        "              new_h = np.round(new_w/aspect).astype(int)\n",
        "              pad_vert = (sh-new_h)/2\n",
        "              pad_top, pad_bot = np.floor(pad_vert).astype(int), np.ceil(pad_vert).astype(int)\n",
        "              pad_left, pad_right = 0, 0\n",
        "          elif aspect < 1: # vertical image\n",
        "              new_h = sh\n",
        "              new_w = np.round(new_h*aspect).astype(int)\n",
        "              pad_horz = (sw-new_w)/2\n",
        "              pad_left, pad_right = np.floor(pad_horz).astype(int), np.ceil(pad_horz).astype(int)\n",
        "              pad_top, pad_bot = 0, 0\n",
        "          else: # square image\n",
        "              new_h, new_w = sh, sw\n",
        "              pad_left, pad_right, pad_top, pad_bot = 0, 0, 0, 0\n",
        "          # set pad color\n",
        "          if len(img.shape) is 3 and not isinstance(padColor, (list, tuple, np.ndarray)): # color image but only one color provided\n",
        "              padColor = [padColor]*3\n",
        "          # scale and pad\n",
        "          img2 = cv2.resize(img, (new_w, new_h), interpolation=interp)\n",
        "          img2 = cv2.copyMakeBorder(img2, pad_top, pad_bot, pad_left, pad_right, borderType=cv2.BORDER_CONSTANT, value=padColor)\n",
        "          #img = cv2.resize(img, (self.IMG_SIZE, self.IMG_SIZE))\n",
        "          self.training_data.append([np.array(img2),np.eye(2)[self.LABELS[label]]])\n",
        "          if label == self.CATS:\n",
        "            self.catcount += 1\n",
        "          elif label == self.DOGS:\n",
        "            self.dogcount += 1 \n",
        "        except Exception as e:\n",
        "          pass\n",
        "          \n",
        "\n",
        "    np.random.shuffle(self.training_data)\n",
        "    np.save(\"training_data.npy\",self.training_data)\n",
        "    print(\"Cats:\",self.catcount)\n",
        "    print(\"Dogs:\",self.dogcount)"
      ],
      "execution_count": 0,
      "outputs": []
    },
    {
      "cell_type": "code",
      "metadata": {
        "id": "iqan0SeVtJk2",
        "colab_type": "code",
        "colab": {}
      },
      "source": [
        "#create an object\n",
        "dogsvcats = DogsVSCats()"
      ],
      "execution_count": 0,
      "outputs": []
    },
    {
      "cell_type": "code",
      "metadata": {
        "id": "89YKNR8-tNMF",
        "colab_type": "code",
        "colab": {}
      },
      "source": [
        "#use method \"make_training_data\" on the object\n",
        "dogsvcats.make_training_data()"
      ],
      "execution_count": 0,
      "outputs": []
    },
    {
      "cell_type": "code",
      "metadata": {
        "id": "2UK2Rj6z-1WB",
        "colab_type": "code",
        "colab": {}
      },
      "source": [
        "#or use method \"make_training_data_pad\" on the object (use ony one method)\n",
        "dogsvcats.make_training_data()"
      ],
      "execution_count": 0,
      "outputs": []
    },
    {
      "cell_type": "code",
      "metadata": {
        "id": "BEO7AAPOtPde",
        "colab_type": "code",
        "colab": {}
      },
      "source": [
        "training_data = np.load(\"training_data.npy\", allow_pickle=True)"
      ],
      "execution_count": 0,
      "outputs": []
    },
    {
      "cell_type": "code",
      "metadata": {
        "id": "sTGOiygUtSSx",
        "colab_type": "code",
        "colab": {
          "base_uri": "https://localhost:8080/",
          "height": 267
        },
        "outputId": "5821304a-bafc-4af4-9c0c-cd6c852f4b9a"
      },
      "source": [
        "# check image from preprocessed dataset\n",
        "import matplotlib.pyplot as plt\n",
        "\n",
        "plt.imshow(training_data[1][0], cmap =\"gray\")\n",
        "plt.show()"
      ],
      "execution_count": 73,
      "outputs": [
        {
          "output_type": "display_data",
          "data": {
            "image/png": "[encoded data removed]",
            "text/plain": [
              "<Figure size 432x288 with 1 Axes>"
            ]
          },
          "metadata": {
            "tags": []
          }
        }
      ]
    },
    {
      "cell_type": "markdown",
      "metadata": {
        "id": "C78-GxwEthOy",
        "colab_type": "text"
      },
      "source": [
        "And now, you can save your preprocessed dataset to google disc, or whereever you want "
      ]
    },
    {
      "cell_type": "code",
      "metadata": {
        "id": "XpeG3GWI_c-N",
        "colab_type": "code",
        "colab": {}
      },
      "source": [
        "from google.colab import drive\n",
        "drive.mount('/content/gdrive')"
      ],
      "execution_count": 0,
      "outputs": []
    },
    {
      "cell_type": "code",
      "metadata": {
        "id": "GohnhHrktfBP",
        "colab_type": "code",
        "colab": {}
      },
      "source": [
        "with open('/content/gdrive/My Drive/training_data.npy', 'w') as f:\n",
        "  f.write('content')"
      ],
      "execution_count": 0,
      "outputs": []
    }
  ]
}