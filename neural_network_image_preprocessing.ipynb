{
  "nbformat": 4,
  "nbformat_minor": 0,
  "metadata": {
    "colab": {
      "name": "neural network image preprocessing.ipynb",
      "provenance": [],
      "authorship_tag": "ABX9TyN3eBQQmdWR0WzrPkk3sJir",
      "include_colab_link": true
    },
    "kernelspec": {
      "name": "python3",
      "display_name": "Python 3"
    },
    "accelerator": "GPU"
  },
  "cells": [
    {
      "cell_type": "markdown",
      "metadata": {
        "id": "view-in-github",
        "colab_type": "text"
      },
      "source": [
        "<a href=\"https://colab.research.google.com/github/benedi91/data_science/blob/master/neural_network_image_preprocessing.ipynb\" target=\"_parent\"><img src=\"https://colab.research.google.com/assets/colab-badge.svg\" alt=\"Open In Colab\"/></a>"
      ]
    },
    {
      "cell_type": "markdown",
      "metadata": {
        "id": "O4eEQ9eftFH3",
        "colab_type": "text"
      },
      "source": [
        "Here is a nice code that could be useful for preparing your images for using them in your neural network based on one-hot vectors. It also enables you to save the output data at your google disc. The code is adapted to use it with colab. I use here kaggle cats and dogs dataset as example, but it is easy to convert the code to another dataset."
      ]
    },
    {
      "cell_type": "code",
      "metadata": {
        "id": "tjktIw9nx7AY",
        "colab_type": "code",
        "outputId": "bdb5bab5-ff0c-4b52-8cfd-c638faff89fe",
        "colab": {
          "base_uri": "https://localhost:8080/",
          "height": 35
        }
      },
      "source": [
        "# My input dataset is stored on my github, IMO it is a good way if you want to work with colab\n",
        "! git clone https://github.com/benedi91/datasets.git"
      ],
      "execution_count": 1,
      "outputs": [
        {
          "output_type": "stream",
          "text": [
            "fatal: destination path 'datasets' already exists and is not an empty directory.\n"
          ],
          "name": "stdout"
        }
      ]
    },
    {
      "cell_type": "code",
      "metadata": {
        "id": "L6qMXLPFtI_5",
        "colab_type": "code",
        "colab": {}
      },
      "source": [
        "import os\n",
        "import cv2\n",
        "import numpy as np\n",
        "from tqdm import tqdm\n",
        "\n",
        "class DogsVSCats():\n",
        "  \n",
        "  IMG_SIZE = 50 #size of an output image\n",
        "  CATS = \"datasets/PetImages/Cat\" #directory of the CATS folder\n",
        "  DOGS = \"datasets/PetImages/Dog\" #directory of the DOGS folder\n",
        "  LABELS = {CATS: 0,DOGS: 1}\n",
        "  training_data = []\n",
        "  catcount = 0\n",
        "  dogcount = 0\n",
        "  padColor = 127 #color of padding\n",
        "\n",
        "  def make_training_data(self): #stretches the non square image\n",
        "    for label in self.LABELS:\n",
        "      print(label)\n",
        "      for f in tqdm(os.listdir(label)):\n",
        "        try:\n",
        "          path = os.path.join(label, f)       \n",
        "          img = cv2.imread(path, cv2.IMREAD_GRAYSCALE) #output images would be in greyscale, if you want color type: cv2.IMREAD_COLOR(no alpha channel) or cv2.IMREAD_UNCHANGED (with alpha channel)\n",
        "          img = cv2.resize(img, (self.IMG_SIZE, self.IMG_SIZE))\n",
        "          self.training_data.append([np.array(img),np.eye(2)[self.LABELS[label]]]) # add one-hot vector to image\n",
        "          if label == self.CATS:\n",
        "            self.catcount += 1\n",
        "          elif label == self.DOGS:\n",
        "            self.dogcount += 1 \n",
        "        except Exception as e:\n",
        "          pass\n",
        "          \n",
        "\n",
        "    np.random.shuffle(self.training_data)\n",
        "    np.save(\"training_data.npy\",self.training_data)\n",
        "    print(\"Cats:\",self.catcount)\n",
        "    print(\"Dogs:\",self.dogcount)\n",
        "    \n",
        "  def make_training_data_pad(self): #same as previous, but does not stretch the non square image\n",
        "    for label in self.LABELS:\n",
        "      print(label)\n",
        "      for f in tqdm(os.listdir(label)): \n",
        "        try:\n",
        "          path = os.path.join(label, f)\n",
        "          img = cv2.imread(path, cv2.IMREAD_GRAYSCALE) #output images would be in greyscale, if you want color type: cv2.IMREAD_COLOR(no alpha channel) or cv2.IMREAD_UNCHANGED (with alpha channel)\n",
        "          # resizing an image\n",
        "          h, w = img.shape[:2]\n",
        "          sh = self.IMG_SIZE\n",
        "          sw = self.IMG_SIZE\n",
        "          # interpolation method of resize\n",
        "          if h > sh or w > sw: # shrinking image\n",
        "              interp = cv2.INTER_AREA\n",
        "          else: # stretching image\n",
        "              interp = cv2.INTER_CUBIC\n",
        "          # aspect ratio of image\n",
        "          aspect = w/h\n",
        "          # compute scaling and pad sizing\n",
        "          if aspect > 1: # horizontal image\n",
        "              new_w = sw\n",
        "              new_h = np.round(new_w/aspect).astype(int)\n",
        "              pad_vert = (sh-new_h)/2\n",
        "              pad_top, pad_bot = np.floor(pad_vert).astype(int), np.ceil(pad_vert).astype(int)\n",
        "              pad_left, pad_right = 0, 0\n",
        "          elif aspect < 1: # vertical image\n",
        "              new_h = sh\n",
        "              new_w = np.round(new_h*aspect).astype(int)\n",
        "              pad_horz = (sw-new_w)/2\n",
        "              pad_left, pad_right = np.floor(pad_horz).astype(int), np.ceil(pad_horz).astype(int)\n",
        "              pad_top, pad_bot = 0, 0\n",
        "          else: # square image\n",
        "              new_h, new_w = sh, sw\n",
        "              pad_left, pad_right, pad_top, pad_bot = 0, 0, 0, 0\n",
        "          # set pad color\n",
        "          if len(img.shape) is 3 and not isinstance(padColor, (list, tuple, np.ndarray)): # color image but only one color provided\n",
        "              padColor = [padColor]*3\n",
        "          # scale and pad\n",
        "          img2 = cv2.resize(img, (new_w, new_h), interpolation=interp)\n",
        "          img2 = cv2.copyMakeBorder(img2, pad_top, pad_bot, pad_left, pad_right, borderType=cv2.BORDER_CONSTANT, value=self.padColor)\n",
        "          #img = cv2.resize(img, (self.IMG_SIZE, self.IMG_SIZE))\n",
        "          self.training_data.append([np.array(img2),np.eye(2)[self.LABELS[label]]])\n",
        "          if label == self.CATS:\n",
        "            self.catcount += 1\n",
        "          elif label == self.DOGS:\n",
        "            self.dogcount += 1 \n",
        "        except Exception as e:\n",
        "          pass\n",
        "          \n",
        "\n",
        "    np.random.shuffle(self.training_data)\n",
        "    np.save(\"training_data.npy\",self.training_data)\n",
        "    print(\"Cats:\",self.catcount)\n",
        "    print(\"Dogs:\",self.dogcount)"
      ],
      "execution_count": 0,
      "outputs": []
    },
    {
      "cell_type": "code",
      "metadata": {
        "id": "iqan0SeVtJk2",
        "colab_type": "code",
        "colab": {}
      },
      "source": [
        "#create an object\n",
        "dogsvcats = DogsVSCats()"
      ],
      "execution_count": 0,
      "outputs": []
    },
    {
      "cell_type": "code",
      "metadata": {
        "id": "89YKNR8-tNMF",
        "colab_type": "code",
        "colab": {}
      },
      "source": [
        "#use method \"make_training_data\" on the object\n",
        "dogsvcats.make_training_data()"
      ],
      "execution_count": 0,
      "outputs": []
    },
    {
      "cell_type": "code",
      "metadata": {
        "id": "2UK2Rj6z-1WB",
        "colab_type": "code",
        "colab": {}
      },
      "source": [
        "#or use method \"make_training_data_pad\" on the object (use ony one method)\n",
        "dogsvcats.make_training_data_pad()"
      ],
      "execution_count": 0,
      "outputs": []
    },
    {
      "cell_type": "code",
      "metadata": {
        "id": "BEO7AAPOtPde",
        "colab_type": "code",
        "colab": {}
      },
      "source": [
        "training_data = np.load(\"training_data.npy\", allow_pickle=True)"
      ],
      "execution_count": 0,
      "outputs": []
    },
    {
      "cell_type": "code",
      "metadata": {
        "id": "sTGOiygUtSSx",
        "colab_type": "code",
        "outputId": "b2f9d7d6-acbc-4232-d702-1140b0860aaf",
        "colab": {
          "base_uri": "https://localhost:8080/",
          "height": 267
        }
      },
      "source": [
        "# check image from preprocessed dataset\n",
        "import matplotlib.pyplot as plt\n",
        "\n",
        "plt.imshow(training_data[9][0], cmap =\"gray\")\n",
        "plt.show()"
      ],
      "execution_count": 50,
      "outputs": [
        {
          "output_type": "display_data",
          "data": {
            "image/png": "[encoded data removed]",
            "text/plain": [
              "<Figure size 432x288 with 1 Axes>"
            ]
          },
          "metadata": {
            "tags": [],
            "needs_background": "light"
          }
        }
      ]
    },
    {
      "cell_type": "markdown",
      "metadata": {
        "id": "C78-GxwEthOy",
        "colab_type": "text"
      },
      "source": [
        "And now, you can save your preprocessed dataset to google disc, or whereever you want "
      ]
    },
    {
      "cell_type": "code",
      "metadata": {
        "id": "1nyBU4f8Zl7G",
        "colab_type": "code",
        "colab": {
          "base_uri": "https://localhost:8080/",
          "height": 129
        },
        "outputId": "ddaee839-f55f-4551-fe61-4adcd3dcca27"
      },
      "source": [
        "from google.colab import drive\n",
        "drive.mount('/content/gdrive',force_remount=True)\n",
        "np.save(F\"/content/gdrive/My Drive/training_data.npy\",training_data)"
      ],
      "execution_count": 51,
      "outputs": [
        {
          "output_type": "stream",
          "text": [
            "Go to this URL in a browser: https://accounts.google.com/o/oauth2/auth?client_id=947318989803-6bn6qk8qdgf4n4g3pfee6491hc0brc4i.apps.googleusercontent.com&redirect_uri=urn%3aietf%3awg%3aoauth%3a2.0%3aoob&response_type=code&scope=email%20https%3a%2f%2fwww.googleapis.com%2fauth%2fdocs.test%20https%3a%2f%2fwww.googleapis.com%2fauth%2fdrive%20https%3a%2f%2fwww.googleapis.com%2fauth%2fdrive.photos.readonly%20https%3a%2f%2fwww.googleapis.com%2fauth%2fpeopleapi.readonly\n",
            "\n",
            "Enter your authorization code:\n",
            "··········\n",
            "Mounted at /content/gdrive\n"
          ],
          "name": "stdout"
        }
      ]
    }
  ]
}